{
  "nbformat": 4,
  "nbformat_minor": 0,
  "metadata": {
    "colab": {
      "name": "01 - Loading and viewing I-CeM data.ipynb",
      "provenance": [],
      "collapsed_sections": [
        "Cd4TzYGceplP",
        "H_wmK2aORSyP",
        "35ISmWR6RwVC",
        "COnpak5pcirT",
        "GPgFQ4kdAUfZ"
      ],
      "include_colab_link": true
    },
    "kernelspec": {
      "name": "ir",
      "display_name": "R"
    },
    "language_info": {
      "name": "R"
    }
  },
  "cells": [
    {
      "cell_type": "markdown",
      "metadata": {
        "id": "view-in-github",
        "colab_type": "text"
      },
      "source": [
        "<a href=\"https://colab.research.google.com/github/nationalarchives/I-CeM-workshop-2022/blob/main/Colabs/01_Loading_and_viewing_I_CeM_data.ipynb\" target=\"_parent\"><img src=\"https://colab.research.google.com/assets/colab-badge.svg\" alt=\"Open In Colab\"/></a>"
      ]
    },
    {
      "cell_type": "markdown",
      "source": [
        "# Notebook outline\n",
        "\n",
        "This notebook accompanies the workshop \"Applying computational methods to census data from I-CeM\" run by The National Archives on 28th June 2022.\n",
        "\n",
        "The notebook demonstrates opening a data extract from the I-CeM platform, exploring the structure, viewing records, and creating basic summaries.\n",
        "\n",
        "The notebook does not contain any data, so first we must upload a file. Follow the instructions provided in the Github repository (https://github.com/nationalarchives/I-CeM-workshop-2022/blob/main/README.md) to upload the data which was extracted from I-CeM earlier in the session. The notebook is intended to work with the full extract which is obtained by selecting \"Download all variables (including raw textual variables)\" at the Download Options stage."
      ],
      "metadata": {
        "id": "KG1Sz9LHMxys"
      }
    },
    {
      "cell_type": "markdown",
      "source": [
        "# Initial setup\n",
        "\n",
        "The tutorial will use the tidyverse library which contains a number of packages for working with data and implementing Tidy Data principles (see https://vita.had.co.nz/papers/tidy-data.pdf). The primary packages we will use are dplyr which is used for data manipulation, and ggplot2 for visualisation. The repr package is also used to change the size of visualisations.\n",
        "\n",
        "In addition a couple of extra functions are created which will be described later in the notebook.\n",
        "\n",
        "For now click in the brackets to the left of \"3 cells hidden\" below."
      ],
      "metadata": {
        "id": "H_wmK2aORSyP"
      }
    },
    {
      "cell_type": "markdown",
      "source": [
        "# Load libraries and useful functions"
      ],
      "metadata": {
        "id": "Cd4TzYGceplP"
      }
    },
    {
      "cell_type": "code",
      "source": [
        "library(tidyverse)\n",
        "library(repr)"
      ],
      "metadata": {
        "id": "LEzMAB6BQ6RN"
      },
      "execution_count": null,
      "outputs": []
    },
    {
      "cell_type": "code",
      "source": [
        "source('https://raw.githubusercontent.com/nationalarchives/I-CeM-workshop-2022/main/common_r_functions.R')\n",
        "source('https://raw.githubusercontent.com/nationalarchives/I-CeM-workshop-2022/main/table_creation_functions.R')"
      ],
      "metadata": {
        "id": "i7o7Wci_S96M"
      },
      "execution_count": null,
      "outputs": []
    },
    {
      "cell_type": "code",
      "source": [
        "variable_file <- 'https://raw.githubusercontent.com/nationalarchives/I-CeM-workshop-2022/main/Data/census%20variable%20descriptions.csv'\n",
        "variables <- read.csv(variable_file)\n",
        "occode_file <- 'https://raw.githubusercontent.com/nationalarchives/I-CeM-workshop-2022/main/Data/occode_lookup.tsv'\n",
        "occode_lookup <- read.csv(occode_file, sep = '\\t')"
      ],
      "metadata": {
        "id": "yIJd5ltr8ZzE"
      },
      "execution_count": null,
      "outputs": []
    },
    {
      "cell_type": "markdown",
      "source": [
        "# Loading the data file\n",
        "\n",
        "Having uploaded the data we can load it into a data frame - a structure for working with tabular data. There is unfortunately an issue with the raw data having two too few headings in the first row. This prevents the file being loaded without an intervention. We can do this programmatically by reading the file, appending two column names to the first row, and writing the results to a new file. This also provides an opportunity to rename the file to something more meaningful along the way. The code has been hidden but can be revealed by clicking on 'Show code' below if you're particularly interested.\n",
        "\n",
        "Start this section by changing the value of the SOURCE_DATA_FILE variable in the cell below. In Colab you can get the name of this file by right clicking on the file in the 'Files' pane and selecting 'Copy path'. Then paste the copied value in the cell below, where it says 'Insert text here'. (Note: this input form does not work well when typing a value in, so it is better to paste - also reduces likelihood of typing errors with a long filename)\n",
        "\n",
        "The result should look something like this (your filename will be different):\n",
        "\n",
        "'/content/b72b4efe-e613-40f5-8ac6-6fe222f686c3.zip'\n",
        "\n",
        "\n",
        "If the previous step was followed correctly the cell will run without error and the data will be loaded into a table called 'source_data'\n",
        "(technically the data structure we're loading into is called a tibble in the world of dplyr, but table is a more commonly understood term so we will use that in this tutorial).\n",
        "\n",
        "It will also print out the number of rows and columns in the data frame."
      ],
      "metadata": {
        "id": "R_YWRdLOQqH9"
      }
    },
    {
      "cell_type": "code",
      "source": [
        "#@title ...Enter source data file name { run: \"auto\", vertical-output: true, form-width: \"50%\", display-mode: \"form\" }\n",
        "\n",
        "SOURCE_DATA_FILE = \"\" #@param {type:\"string\"}\n",
        "\n",
        "SOURCE_DATA_FILE\n",
        "\n",
        "temp_file <- 'temporary_file.txt'\n",
        "fix_header(SOURCE_DATA_FILE, temp_file)\n",
        "source_data <-  read_delim(temp_file, delim = '|', col_names = TRUE, show_col_types = TRUE)\n",
        "paste(c(\"Rows:\",nrow(source_data), \"Columns:\", ncol(source_data)), sep = \" \")\n"
      ],
      "metadata": {
        "id": "0jQbTRKGeEYT"
      },
      "execution_count": null,
      "outputs": []
    },
    {
      "cell_type": "markdown",
      "source": [
        "### Problems with the data\n",
        "\n",
        "In fact for the Rutland 1851 download there are some issues with the data and we get a warning message telling us that there were issues parsing the data. This comes down to this particular library inferring data types from the column values. In this case it has inferred that the H_Mar (marital status of head of household) column is a number (which according to the I-CeM guide is correct) but found 7 entries containing a '.' character.\n",
        "\n",
        "The problems() function shows this and the colnames function is used to confirm that the problematic column (89) is indeed H_Mar.\n",
        "\n",
        "The I-CeM guide describes the logic we could use to infer the most likely value for H_Mar but it involves analysis of the household which is beyond the scope of this tutorial. For now they will remain as NA, the default set for non-numerical values."
      ],
      "metadata": {
        "id": "Optvm9zSMZat"
      }
    },
    {
      "cell_type": "code",
      "source": [
        "problems(source_data)\n",
        "colnames(source_data)[89]\n",
        "source_data[15518, 89]"
      ],
      "metadata": {
        "id": "mkAAz-9hLmMt"
      },
      "execution_count": null,
      "outputs": []
    },
    {
      "cell_type": "markdown",
      "source": [
        "## View the structure\n",
        "\n",
        "Having loaded the data we can now view the list of columns in the data."
      ],
      "metadata": {
        "id": "rrAbzIJN8SE1"
      }
    },
    {
      "cell_type": "code",
      "source": [
        "colnames(source_data)"
      ],
      "metadata": {
        "id": "UGYIg3wW6fgW"
      },
      "execution_count": null,
      "outputs": []
    },
    {
      "cell_type": "markdown",
      "source": [
        "Unfortunately the column names are not always obviously interpretable. While the meanings of Country, Parish, Population are clear, columns such as RC, RD and CFU may require further explanation.\n",
        "\n"
      ],
      "metadata": {
        "id": "4ENF97HtO0mw"
      }
    },
    {
      "cell_type": "markdown",
      "source": [
        "## Load variable datasheet\n",
        "\n",
        "The I-CeM project does provide a datasheet which gives a long label for each field. Census downloads are standardised so that each download contains the same columns, but not all variables were captured in any given year. So the datasheet also provides a handy lookup for which fields are populated in each year. The datasheet will be loaded into two tables:\n",
        "\n",
        "\n",
        "\n",
        "*   column_labels: maps field name to long label; two variables indicate whether field is coded, and in the anonymised dataset.\n",
        "*   columns_by_census: for each variable (VariableName column) and each census (census_name column) the has_variable column indicates whether that variable is in that census.\n",
        "\n",
        "After loading the data the first three rows of each table will be output, column_labels first, columns_by_census second.\n",
        "\n",
        "\n",
        "A full explanation of how the tables are created is included in the hidden Explanation section which follows."
      ],
      "metadata": {
        "id": "1NHtHI5Ai_ef"
      }
    },
    {
      "cell_type": "code",
      "source": [
        "#@title Click the arrow to load the data\n",
        "variable_file <- 'https://raw.githubusercontent.com/nationalarchives/I-CeM-workshop-2022/main/Data/census%20variable%20descriptions.csv'\n",
        "variables <- read.csv(variable_file)\n",
        "\n",
        "column_labels <- variables %>%\n",
        " select(\"VariableName\", \"Label\",\"Coded\",\"AnonymisedVersion\") %>%\n",
        " mutate(Coded = (Coded == \"x\"), AnonymisedVersion = (AnonymisedVersion == \"x\"))\n",
        "\n",
        "columns_by_census <- variables %>%\n",
        " select(\"VariableName\", EW51:SCOT01) %>%\n",
        " pivot_longer(EW51:SCOT01, names_to = \"census_name\", values_to = \"has_variable\") %>%\n",
        "  mutate(has_variable = (has_variable == \"x\"))\n",
        "\n",
        "head(column_labels,3)\n",
        "head(columns_by_census,3)"
      ],
      "metadata": {
        "id": "zu3KuHj9TdYC",
        "cellView": "form"
      },
      "execution_count": null,
      "outputs": []
    },
    {
      "cell_type": "markdown",
      "source": [
        "### Explanation (expand to read)"
      ],
      "metadata": {
        "id": "COnpak5pcirT"
      }
    },
    {
      "cell_type": "markdown",
      "source": [
        "First we load the data file into a variable called variables. The data file is hosted on Github and is in csv (Comma Separated Values) format. The first row is a header row with column names."
      ],
      "metadata": {
        "id": "sXUQgOvDdNkl"
      }
    },
    {
      "cell_type": "code",
      "source": [
        "variable_file <- 'https://raw.githubusercontent.com/nationalarchives/I-CeM-workshop-2022/main/Data/census%20variable%20descriptions.csv'\n",
        "variables <- read.csv(variable_file, header = TRUE)"
      ],
      "metadata": {
        "id": "koplzmj7nFpI"
      },
      "execution_count": null,
      "outputs": []
    },
    {
      "cell_type": "markdown",
      "source": [
        "\n",
        "The column_labels table contains the mapping of field name to long label, as well as variables indicating whether they are Coded and/or included in the Anonymised dataset (which we are using). The latter two columns are converted from 'x'/blank to TRUE/FALSE values using the mutate function. Within the mutate function 'CODED = (CODED == \"x\")' means that the CODED field will be set to the value of (CODED == \"x\"). This is a boolean test which will return TRUE if the original CODED value was \"x\" and FALSE otherwise. The Anonymised.version field works the same way.\n"
      ],
      "metadata": {
        "id": "XW9CSlWFcovT"
      }
    },
    {
      "cell_type": "code",
      "source": [
        "column_labels <- variables %>%\n",
        " select(\"VariableName\", \"Label\",\"Coded\",\"AnonymisedVersion\") %>%\n",
        " mutate(Coded = (Coded == \"x\"), AnonymisedVersion = (AnonymisedVersion == \"x\"))"
      ],
      "metadata": {
        "id": "tVl4pMhjnJK-"
      },
      "execution_count": null,
      "outputs": []
    },
    {
      "cell_type": "markdown",
      "source": [
        "The columns_by_census table follows Tidy Data principles to convert from having a column per census, to a row per variable per census. The pivot_longer function converts the columns from EW51 to EW11 (the England and Wales censuses) and from SCOT51 to SCOT01 (Scotland's censuses) to two columns called census_name (the original column name, e.g. E.W51) and has_variable (the value in the original column). Again the latter is converted to a TRUE/FALSE value."
      ],
      "metadata": {
        "id": "77Ucp_j-nKUe"
      }
    },
    {
      "cell_type": "code",
      "source": [
        "columns_by_census <- variables %>%\n",
        " select(\"VariableName\", EW51:SCOT01) %>%\n",
        " pivot_longer(EW51:SCOT01, names_to = \"census_name\", values_to = \"has_variable\") %>%\n",
        "  mutate(has_variable = (has_variable == \"x\"))"
      ],
      "metadata": {
        "id": "e8KwDZhDcpes"
      },
      "execution_count": null,
      "outputs": []
    },
    {
      "cell_type": "markdown",
      "source": [
        "## 1851 variables\n",
        "\n",
        "We can now use these two tables to trim down the original data table to only include columns which are populated in the 1851 England and Wales census and which appear in the anonymised extract. A new table  called census_data is created and will be used in the rest of the tutorial. The resulting list of columns in this table and their long label are printed at the end.\n",
        "\n",
        "The code is hidden but a full explanation of it is available for the curious in the hidden section following the code (called Explanation)."
      ],
      "metadata": {
        "id": "rJ-pOKTytSVP"
      }
    },
    {
      "cell_type": "code",
      "source": [
        "#@title Click arrow to run { vertical-output: true }\n",
        "selected_columns <- columns_by_census %>%\n",
        " filter(census_name == 'EW51' & has_variable) %>%\n",
        "  inner_join(column_labels, by = 'VariableName') %>%\n",
        " filter(AnonymisedVersion) %>%\n",
        " select(\"VariableName\", \"Label\")\n",
        "\n",
        "census_data <- source_data %>% select(str_trim(selected_columns$VariableName))\n",
        "\n",
        "selected_columns %>% print(n=100)"
      ],
      "metadata": {
        "id": "qV0CPksOpWnh",
        "cellView": "form"
      },
      "execution_count": null,
      "outputs": []
    },
    {
      "cell_type": "markdown",
      "source": [
        "### Explanation (expand to read)\n",
        "\n"
      ],
      "metadata": {
        "id": "GPgFQ4kdAUfZ"
      }
    },
    {
      "cell_type": "markdown",
      "source": [
        "The value in the census_name column which was created when we tidied the data is 'EW51' (the ampersands in the original data were removed), and the has_variable column is TRUE if that column is populated. We include both of these expressions within dplyr's filter function on line 2.\n",
        "\n",
        "The inner_join function joins the columns_by_census table to the column_labels table so that we can get the full column labels and also identify which are Coded and available in the Anonymised download.\n",
        "\n",
        "Finally we use dplyr's select function to create a trimmed down version of the source data using only the select columns. Some of the values in the VariableName column appear to have trailing space, so they are removed using the str_trim function.\n",
        "\n",
        "The resulting table is output at the end. It is called census_data and will be used in the remainder of this tutorial."
      ],
      "metadata": {
        "id": "1p5Koqj7ZqdF"
      }
    },
    {
      "cell_type": "code",
      "source": [
        "selected_columns <- columns_by_census %>%\n",
        " filter(census_name == 'EW51' & has_variable) %>%\n",
        "  inner_join(column_labels, by = 'VariableName') %>%\n",
        " filter(AnonymisedVersion) %>%\n",
        " select(\"VariableName\", \"Label\")\n",
        " \n",
        "census_data <- source_data %>% select(str_trim(selected_columns$VariableName))\n",
        "\n",
        "selected_columns %>% print(n=100)"
      ],
      "metadata": {
        "id": "4avR0Vv5Cz0x"
      },
      "execution_count": null,
      "outputs": []
    },
    {
      "cell_type": "markdown",
      "source": [
        "# Exploring the data\n",
        "\n"
      ],
      "metadata": {
        "id": "fvBTbgM-RX4v"
      }
    },
    {
      "cell_type": "markdown",
      "source": [
        "## Viewing the data\n",
        "\n",
        "The obvious starting point when first exploring the data is to look at some records. This can be simply achieved using the head function but unfortunately it doesn't output many of the columns due to space restrictions. So we have to set the width option and use the print function to produce a full width output. The value inside the head function can be changed to view more, or fewer, records."
      ],
      "metadata": {
        "id": "6lQVoY0cvTHX"
      }
    },
    {
      "cell_type": "code",
      "source": [
        "options(width=1000)\n",
        "census_data %>% head(5) %>% print()"
      ],
      "metadata": {
        "id": "7bzXxn5Nvh10"
      },
      "execution_count": null,
      "outputs": []
    },
    {
      "cell_type": "markdown",
      "source": [
        "Instead of the top 5 rows it can be more informative to view a random sample instead. In this case we switch the head function for the sample_n function."
      ],
      "metadata": {
        "id": "AAvVwF9sx9mP"
      }
    },
    {
      "cell_type": "code",
      "source": [
        "census_data %>% sample_n(5) %>% print()"
      ],
      "metadata": {
        "id": "WTGp-hf1xz6X"
      },
      "execution_count": null,
      "outputs": []
    },
    {
      "cell_type": "markdown",
      "source": [
        "## Data summary\n",
        "\n",
        "We can use the summary function to gain an overview of the data. Most of the columns are text, which summary doesn't do anything particularly interesting with (see the output under RegDist for an example), so we have chosen a selection of numerical columns to make the output more digestible.\n",
        "\n",
        "The column summaries highlight some interesting features worthy of further investigation. We can see the range of populations across the districts from a minimum of 7 to a maximum of 2092, and that there appears to be a roughly 50:50 split between male and female populations. The Rela field has an extreme value of 9999 which makes the mean much higher than the 3rd Quartile value. This is most likely a default value whose meaning should be looked up. The RelInf column is similar. The HeadInf column looks like it is a boolean value (i.e. 0s and 1s). The H_Age column (age of head of household) has very high values for the quartiles, median and mean. Again the documentation and further analysis can be used to understand its contents."
      ],
      "metadata": {
        "id": "W6Q-CnrhBsaA"
      }
    },
    {
      "cell_type": "code",
      "source": [
        "options(width=200)\n",
        "summary(census_data[c(\"Year\",\"RecID\",\"RegDist\",\"Population\",\"MalePop\",\"FemalePop\",\"Rela\",\"RelInf\",\"HeadInf\",\"H_Age\")])"
      ],
      "metadata": {
        "id": "4V9rQsBu99OY"
      },
      "execution_count": null,
      "outputs": []
    },
    {
      "cell_type": "markdown",
      "source": [
        "## Sampling rows\n",
        "\n",
        "For the purposes of the next section we will use a subset of columns to make the output easier to digest. We will use the select function to achieve this rather than creating another trimmed down table.\n",
        "\n",
        "The next statement defines the columns and prints out a list with labels."
      ],
      "metadata": {
        "id": "jV-lmJohC1zz"
      }
    },
    {
      "cell_type": "code",
      "source": [
        "output_columns <- c(\"RecID\", \"RegDist\", \"Parish\", \"Population\", \"Censusref\", \"H\", \"PID\", \"Sex\", \"Age\", \"Cond\", \"Relat\", \"Occ\", \"Bpstring\", \"BpCmty\")\n",
        "output_columns <- all_of(output_columns)\n",
        "column_labels %>% filter(VariableName %in% output_columns) %>% select(VariableName, Label, Coded)"
      ],
      "metadata": {
        "id": "xdz4cJwi0eYC"
      },
      "execution_count": null,
      "outputs": []
    },
    {
      "cell_type": "markdown",
      "source": [
        "We will again use the sample_n function, with a parameter of 1, to select a random record. The select function is used to choose the columns defined above.\n",
        "Every time you run the cell below a new row will be produced.\n",
        "\n",
        "Try running the cell a few times."
      ],
      "metadata": {
        "id": "j2wvhY7TEvNJ"
      }
    },
    {
      "cell_type": "code",
      "source": [
        "census_data %>% sample_n(1) %>% select(all_of(output_columns))"
      ],
      "metadata": {
        "id": "8X0VF6MGE88x"
      },
      "execution_count": null,
      "outputs": []
    },
    {
      "cell_type": "markdown",
      "source": [
        "Instead of looking at a single record, let's look at the record for an entire household. The following query will use the Censusref and H (House Identifier) values from a new sample row and return every record with the same values.\n",
        "\n",
        "Again try it a few times."
      ],
      "metadata": {
        "id": "OCkMEXncGT24"
      }
    },
    {
      "cell_type": "code",
      "source": [
        "sample_row <- census_data %>% sample_n(1) %>% select(all_of(output_columns))\n",
        "\n",
        "census_data %>% filter(Censusref == sample_row$Censusref[1] & H == sample_row$H[1]) %>% select(all_of(output_columns))"
      ],
      "metadata": {
        "id": "uR8AemgAGh0T"
      },
      "execution_count": null,
      "outputs": []
    },
    {
      "cell_type": "markdown",
      "source": [
        "## Data profiling\n",
        "\n",
        "Looking at individual rows is a good starting point for getting to know a dataset, but it is often better to look at the data in aggregate to understand its distribution and identify patterns. This process is sometimes termed Data Profiling."
      ],
      "metadata": {
        "id": "iZ5T6ed_NBUQ"
      }
    },
    {
      "cell_type": "markdown",
      "source": [
        "Two functions which characterise the format of a string have been created to aid profiling.\n",
        "\n",
        "\n",
        "\n",
        "*   value_format: converts letters to 'a' or 'A' depending on case, and numeric characters to '9'. All other characters remain the same.\n",
        "    Example: Bcde-3 becomes Aaaa-9\n",
        "*   value_format_compress: similar to value_format but replaces runs of repeated characters ('a','A', or '9') with an asterix.\n",
        "    Example: Bcde-3 becomes Aa*-9\n",
        "\n",
        "You can try out the functions with different strings in the next two cells. Just change the values in quotation marks.\n"
      ],
      "metadata": {
        "id": "mvaqon2tHulH"
      }
    },
    {
      "cell_type": "code",
      "source": [
        "value_format(\"Bcde-3\")"
      ],
      "metadata": {
        "id": "f34w0XDFMD_L"
      },
      "execution_count": null,
      "outputs": []
    },
    {
      "cell_type": "code",
      "source": [
        "value_format_compress(\"Bcde-3\")\n",
        "value_format_compress(\"abcdxyz 1289ABCXYZ-\")"
      ],
      "metadata": {
        "id": "nOS-NYX6wHmQ"
      },
      "execution_count": null,
      "outputs": []
    },
    {
      "cell_type": "markdown",
      "source": [
        "### Counting values\n",
        "\n",
        "An obvious starting point is to find the most commonly occurring values in a column. This can be achieved using the group_by and summarise functions. Select a field from the dropdown list in the form below, then select a function to use:\n",
        "\n",
        "\n",
        "*   Value: group by the field value\n",
        "*   ValueFormat: group by the format of the value using the value_format function\n",
        "*   ShortFormat: group by the shortened version of the format using the value_format_compress function\n",
        "\n",
        "\n",
        " Use the slider to adjust the number of values it returns. The query will run automatically when changing the values in the form."
      ],
      "metadata": {
        "id": "ZUFu8FMMPGNe"
      }
    },
    {
      "cell_type": "code",
      "source": [
        "#@title Select a field to summarise { run: \"auto\", vertical-output: true }\n",
        "fieldname = 'Occ' #@param [\"Censusref\", \"PID\", \"Occ\", \"Sex\", \"Parish\", \"Cond\", \"Relat\", \"Age\"]\n",
        "aggregation_function = 'Value' #@param [\"Value\",\"ValueFormat\",\"ShortFormat\"]\n",
        "records = 12 #@param {type:\"slider\", min:1, max:30, step:1}\n",
        "\n",
        "Value <- function(v) { return(v) }\n",
        "ValueFormat <- function(v) { return(value_format(v)) }\n",
        "ShortFormat <- function(v) { return(value_format_compress(v)) }\n",
        "\n",
        "function_to_use <- get(aggregation_function)\n",
        "\n",
        "census_data %>%\n",
        " select(aggregate_column = all_of(fieldname)) %>% \n",
        " mutate(aggregate_column = lapply(aggregate_column, function_to_use))  %>%\n",
        "   group_by(aggregate_column) %>% summarise(count = n()) %>%\n",
        "    arrange(-count) %>%\n",
        "    head(records)"
      ],
      "metadata": {
        "id": "H0e50mBbPUoT",
        "cellView": "form"
      },
      "execution_count": null,
      "outputs": []
    },
    {
      "cell_type": "markdown",
      "source": [
        "# Visualisations\n",
        "\n",
        "While numerical summaries are interesting, data really comes alive when we visualise it.\n",
        "\n",
        "In the following section you can select a field name and create a visualisation showing counts of records by value. Optionally the visualisations can be partitioned by a second variable (select Blank to not do this). The slider will set how many values will be returned - it will return the top N rows by size (where N is the value set by the slider)."
      ],
      "metadata": {
        "id": "9Al-9JmkQzM_"
      }
    },
    {
      "cell_type": "code",
      "source": [
        "#@title Select a field to summarise { run: \"auto\", vertical-output: true }\n",
        "FieldName = 'Parish' #@param [\"Censusref\", \"PID\", \"Occ\", \"Sex\", \"Parish\", \"Cond\", \"Relat\", \"Age\"]\n",
        "PartitionField = 'is_child' #@param [\"BlankCol\", \"Sex\", \"is_child\"]\n",
        "records = 15 #@param {type:\"slider\", min:5, max:30, step:1}\n",
        "\n",
        "\n",
        "options(repr.plot.width=20, repr.plot.height=8, warn = -1)\n",
        "data_summary <- census_data %>%\n",
        "    mutate(Age = as.numeric(Age), BlankCol = '') %>%\n",
        "    filter(!is.na(Age)) %>%\n",
        "    mutate(is_child = (Age < 18)) %>%\n",
        "    select(aggregate_column = all_of(FieldName), fill_column = all_of(PartitionField)) %>%\n",
        "    group_by(aggregate_column, fill_column) %>% summarise(count = n())\n",
        "\n",
        "aggregate_col_summary <- data_summary %>%\n",
        "    group_by(aggregate_column) %>%\n",
        "    summarise(count_sum = sum(count)) %>%\n",
        "    arrange(-count_sum) %>% head(records)\n",
        "\n",
        "data_summary %>% \n",
        "    inner_join(aggregate_col_summary, by = 'aggregate_column') %>%\n",
        "        ggplot(aes(x = reorder(aggregate_column, -count), y = count, fill = fill_column)) +\n",
        "            geom_bar(stat=\"identity\") + coord_flip() + facet_wrap(vars(fill_column)) + xlab(FieldName) +\n",
        "            theme(axis.text.x = element_text(size = 15, angle = 55, vjust = 1.0, hjust=1.0))"
      ],
      "metadata": {
        "id": "MeLtB7m8U1Pc",
        "cellView": "form"
      },
      "execution_count": null,
      "outputs": []
    },
    {
      "cell_type": "code",
      "source": [
        ""
      ],
      "metadata": {
        "id": "LdAmCdJqxgqB"
      },
      "execution_count": null,
      "outputs": []
    },
    {
      "cell_type": "markdown",
      "source": [
        "# Summary\n",
        "\n",
        "In this notebook we have:\n",
        "\n",
        "\n",
        "\n",
        "*   Loaded an I-CeM data file into a table for analysis\n",
        "*   Identified issues in both the header row and the format of one of the columns\n",
        "*   Used metadata to identify and select which columns are relevant to a particular census\n",
        "*   Browsed data rows and created aggregated summaries to better understand the data\n",
        "*   Created simple bar chart visualisations of key columns\n",
        "\n"
      ],
      "metadata": {
        "id": "TAe8kcz21wwX"
      }
    }
  ]
}
