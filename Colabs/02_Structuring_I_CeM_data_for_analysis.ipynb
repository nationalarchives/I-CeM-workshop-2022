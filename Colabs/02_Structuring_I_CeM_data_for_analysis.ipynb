{
  "cells": [
    {
      "cell_type": "markdown",
      "metadata": {
        "id": "view-in-github",
        "colab_type": "text"
      },
      "source": [
        "<a href=\"https://colab.research.google.com/github/nationalarchives/I-CeM-workshop-2022/blob/main/Colabs/02_Structuring_I_CeM_data_for_analysis.ipynb\" target=\"_parent\"><img src=\"https://colab.research.google.com/assets/colab-badge.svg\" alt=\"Open In Colab\"/></a>"
      ]
    },
    {
      "cell_type": "markdown",
      "metadata": {
        "id": "KG1Sz9LHMxys"
      },
      "source": [
        "# Notebook outline\n",
        "\n",
        "This is the second notebook which accompanies the workshop \"Applying computational methods to census data from I-CeM\" run by The National Archives on 28th June 2022.\n",
        "\n",
        "The notebook introduces the principles of data normalisation and works through the process of splitting the I-CeM data into separate tables. A number of lookup tables are then imported to complete the process."
      ]
    },
    {
      "cell_type": "markdown",
      "metadata": {
        "id": "H_wmK2aORSyP"
      },
      "source": [
        "# Initial setup\n",
        "\n",
        "This section loads the same libraries and data loading functions as notebook 1. It then creates a set of functions which will be used for the normalisation process. They will be explained in turn as they are used so there is no need to look closely at them now.\n",
        "\n",
        "You can run the hidden cells without expanding this section."
      ]
    },
    {
      "cell_type": "code",
      "execution_count": null,
      "metadata": {
        "id": "LEzMAB6BQ6RN"
      },
      "outputs": [],
      "source": [
        "library(tidyverse)\n",
        "library(repr)\n",
        "\n",
        "options(width = 1000, dplyr.width = 1000)\n",
        "options(repr.plot.width=18, repr.plot.height=7, warn = -1, dplyr.summarise.inform = FALSE)"
      ]
    },
    {
      "cell_type": "markdown",
      "source": [
        "The functions contained in the following script load census files and generate the normalised data tables. They will be explained at various points in the notebook."
      ],
      "metadata": {
        "id": "SwMeLaN3t8M2"
      }
    },
    {
      "cell_type": "code",
      "source": [
        "source('https://raw.githubusercontent.com/nationalarchives/I-CeM-workshop-2022/main/common_r_functions.R')\n",
        "source('https://raw.githubusercontent.com/nationalarchives/I-CeM-workshop-2022/main/table_creation_functions.R')"
      ],
      "metadata": {
        "id": "tlf1q8azBkLe"
      },
      "execution_count": null,
      "outputs": []
    },
    {
      "cell_type": "code",
      "source": [
        "variable_file <- 'https://raw.githubusercontent.com/nationalarchives/I-CeM-workshop-2022/main/Data/census%20variable%20descriptions.csv'\n",
        "variables <- read.csv(variable_file)\n",
        "occode_file <- 'https://raw.githubusercontent.com/nationalarchives/I-CeM-workshop-2022/main/Data/occode_lookup.tsv'\n",
        "occode_lookup <- read.csv(occode_file, sep = '\\t')"
      ],
      "metadata": {
        "id": "a03W7nQ9anKY"
      },
      "execution_count": null,
      "outputs": []
    },
    {
      "cell_type": "code",
      "source": [
        ""
      ],
      "metadata": {
        "id": "MNBdoPVhF74m"
      },
      "execution_count": null,
      "outputs": []
    },
    {
      "cell_type": "markdown",
      "metadata": {
        "id": "R_YWRdLOQqH9"
      },
      "source": [
        "# Loading the data file\n",
        "\n",
        "We will follow the same steps as for the first notebook. Upload the data file to Colab and then copy and paste its path into the form below. This time the columns will be automatically reduced to the set of E&W 1851 columns."
      ]
    },
    {
      "cell_type": "code",
      "execution_count": null,
      "metadata": {
        "id": "0jQbTRKGeEYT"
      },
      "outputs": [],
      "source": [
        "#@title ...Enter source data file name { run: \"auto\", vertical-output: true, form-width: \"50%\", display-mode: \"form\" }\n",
        "\n",
        "#occode_lookup <- read_tsv('/content/occode_lookup.tsv', col_names = TRUE)\n",
        "#occode_lookup <- occode_lookup %>% mutate(Occode = as.character(Occode))\n",
        "\n",
        "SOURCE_DATA_FILE = \"/content/1851-rut-b72b4efe-e613-40f5-8ac6-6fe222f686c3.zip\" #@param {type:\"string\"}\n",
        "\n",
        "SOURCE_DATA_FILE\n",
        "\n",
        "fix_header(SOURCE_DATA_FILE, 'temporary_file.txt')\n",
        "census_data <- load_census('temporary_file.txt', variables, 'EW51')\n",
        "paste(c(\"Rows:\",nrow(census_data), \"Columns:\", ncol(census_data)), sep = \" \")"
      ]
    },
    {
      "cell_type": "markdown",
      "metadata": {
        "id": "fvBTbgM-RX4v"
      },
      "source": [
        "# Data normalisation\n",
        "\n"
      ]
    },
    {
      "cell_type": "markdown",
      "metadata": {
        "id": "6lQVoY0cvTHX"
      },
      "source": [
        "## Motivations for normalising data\n",
        "\n",
        "Normalisation is a process of cleaning and structuring data in a relational database with the following aims:\n",
        "\n",
        "\n",
        "1.   Reduce duplication\n",
        "2.   Improve data integrity\n",
        "\n"
      ]
    },
    {
      "cell_type": "markdown",
      "metadata": {
        "id": "AAvVwF9sx9mP"
      },
      "source": [
        "One motivation for reducing duplication is to save space. Another reason can be demonstrated by finding the total of the Population column. We know there are c.24000 individuals in the Rutland dataset, yet when we calculate the sum of Population we get a much larger figure."
      ]
    },
    {
      "cell_type": "code",
      "execution_count": null,
      "metadata": {
        "id": "WTGp-hf1xz6X"
      },
      "outputs": [],
      "source": [
        "census_data %>% summarise(Population = sum(Population))"
      ]
    },
    {
      "cell_type": "markdown",
      "metadata": {
        "id": "tETeJ9x8nWLC"
      },
      "source": [
        "Why does this happen? Each row of data contains a mixture of details about individuals, and information about the Parish where they resided on the day of the census. The details of the Parish are taken from aggregated *Census Reports*. The following query demonstrates the repetition of Parish details. As part of the normalisation process we will create a separate table for each Parish"
      ]
    },
    {
      "cell_type": "code",
      "execution_count": null,
      "metadata": {
        "id": "obgKeXRabYeL"
      },
      "outputs": [],
      "source": [
        "census_data %>% filter(Censusref == 'HO107/2093/80/60' & H == 219) %>% select(RecID, ParID, RegDist, Parish, Population, PID)"
      ]
    },
    {
      "cell_type": "markdown",
      "metadata": {
        "id": "R6pBv3nuOZ8I"
      },
      "source": [
        "## The Parish table\n",
        "\n",
        "Here is a reminder of the columns in the data. We can see that all but one of the columns before Censusref (column 20) are related to the Parish. The one to exclude is RecID which is the unique reference for each row of data. The ParID column gives a unique ID to each Parish. To verify that the Parish table has been created correctly, we will check that there is only one row per ParID."
      ]
    },
    {
      "cell_type": "code",
      "execution_count": null,
      "metadata": {
        "id": "pTedKQiG6ITO"
      },
      "outputs": [],
      "source": [
        "colnames(census_data)"
      ]
    },
    {
      "cell_type": "markdown",
      "metadata": {
        "id": "081P8C4ufZGy"
      },
      "source": [
        "The **distinct** function in dplyr returns all unique combinations of the columns named in the parentheses. We use this to create a new table called **parish_return**. If we select the right columns then each ParID will appear on only one row. We will run a query at the end to check this. The checking query counts records by ParID and then returns (via **filter**) the ones with a count greater than 1. It should return no rows."
      ]
    },
    {
      "cell_type": "code",
      "execution_count": null,
      "metadata": {
        "id": "w4Bp6nCDcOFa"
      },
      "outputs": [],
      "source": [
        "parish_return <- get_parish_return_table(census_data)\n",
        "\n",
        "# Perform the check here\n",
        "parish_return %>% group_by(ParID) %>% summarise(n = n()) %>% filter(n > 1)"
      ]
    },
    {
      "cell_type": "markdown",
      "source": [
        "### Explanation of parish return table - expand to read"
      ],
      "metadata": {
        "id": "6tWdnp5UqMX7"
      }
    },
    {
      "cell_type": "markdown",
      "source": [
        "If you wish to see the code which produces this table just print out the get_parish_return_table, as follows"
      ],
      "metadata": {
        "id": "aGHX8IQwejmC"
      }
    },
    {
      "cell_type": "code",
      "source": [
        "get_parish_return_table"
      ],
      "metadata": {
        "id": "XYuGhLw1erBS"
      },
      "execution_count": null,
      "outputs": []
    },
    {
      "cell_type": "markdown",
      "source": [
        "The function uses the distinct function from dplyr to find only unique combinations of the fields selected. The fields are carefully selected to result in only one row per parish. A parish is uniquely defined by the ParID field, so that is used to confirm the correct fields have been chosen."
      ],
      "metadata": {
        "id": "KXbG3-ZqqdoX"
      }
    },
    {
      "cell_type": "markdown",
      "metadata": {
        "id": "W6Bm9S2u2iQy"
      },
      "source": [
        "## Using the parish return table\n",
        "\n",
        "Next we compare the total population with the numbers of rows in the data."
      ]
    },
    {
      "cell_type": "code",
      "execution_count": null,
      "metadata": {
        "id": "1sS7kbAtcelo"
      },
      "outputs": [],
      "source": [
        "paste0(\"Data rows: \",nrow(census_data))\n",
        "paste0(\"\")\n",
        "parish_return %>% summarise(Population = sum(Population))"
      ]
    },
    {
      "cell_type": "markdown",
      "metadata": {
        "id": "2TaQHWmg2q0-"
      },
      "source": [
        "They are different! Before investigating the data we should consider why this might be. The Population figures are not derived directly from this data but are instead taken from the census reports. So it should not be entirely unexpected to find some discrepancies in the data. We can quantify the difference as a percentage, which shows that the number of detail rows in the data is 99.8% of the population total.\n",
        "\n",
        "Summarising by individual Parish gives a more nuanced view, and we see that in some cases the record count (the census_rows column) is greater than the Population value, while in Pilton it is markedly lower (33.7%). Note, this is not all parishes, only those where the two figures differ. The Population column provides the official total but the differing figures derived from the detail records suggest care should be taken when using those for population level statistics."
      ]
    },
    {
      "cell_type": "code",
      "execution_count": null,
      "metadata": {
        "id": "VTm3cOzndSnz"
      },
      "outputs": [],
      "source": [
        "census_data %>%\n",
        " group_by(ParID) %>%\n",
        " summarise(census_rows = n()) %>%\n",
        " inner_join(parish_return, by = 'ParID') %>%\n",
        " select(ParID, Parish, census_rows, Population) %>%\n",
        " filter(Population != census_rows) %>% mutate(pct = (census_rows/Population)*100) "
      ]
    },
    {
      "cell_type": "markdown",
      "metadata": {
        "id": "znJcYhnLIyWo"
      },
      "source": [
        "Another difference worth highlighting is that the Population value is the total of the MalePop and FemalePop values. However, in the detail records we have three possible values for Sex: M, F, U."
      ]
    },
    {
      "cell_type": "code",
      "execution_count": null,
      "metadata": {
        "id": "_fpwDiGelwPL"
      },
      "outputs": [],
      "source": [
        "parish_return %>% summarise(MalePop = sum(MalePop), FemalePop = sum(FemalePop), TotalPop = sum(Population))"
      ]
    },
    {
      "cell_type": "markdown",
      "metadata": {
        "id": "MBgEpMFKJNoL"
      },
      "source": [
        "We could continue the normalisation process by creating separate tables for Districts and SubDistricts, but for the purpose of this workshop we will keep these in the Parish table."
      ]
    },
    {
      "cell_type": "markdown",
      "metadata": {
        "id": "02Fkxi2yJxRz"
      },
      "source": [
        "## Household table\n",
        "\n",
        "The next step of normalisation will be to look at households. Here is another reminder of the available columns."
      ]
    },
    {
      "cell_type": "code",
      "execution_count": null,
      "metadata": {
        "id": "zwvjdIiWLhqy"
      },
      "outputs": [],
      "source": [
        "colnames(census_data)"
      ]
    },
    {
      "cell_type": "markdown",
      "metadata": {
        "id": "ZHOjN4y2PWHC"
      },
      "source": [
        "A household is identified by the H column which is unique for each Parish. We will therefore create a unique identifier which is a combination of ParID and H by concatenating them together, separated by an underscore. The paste0 function in R will achieve this, and we will call the new column H_ID. The remainder of the columns selected should once again result in one row per H_ID.\n",
        "\n",
        "The columns H_Sex, H_Age, H_Occ, H_CFU all relate to the head of the household. HSS is a code which describes the make up of the household. tn_CFUs counts the number of Conjugal Family Units (CFUs) in the household. More on those in the next section.\n",
        "\n",
        "We are also adding a new column called H_Age_Band which will round the age down to the nearest 5 (e.g. 37 becomes 35; interpret 35 as 35-39).\n",
        "The distinct function is used again and a new table ew51_household is created. As with the Parish data, we will check no H_ID appears more than once."
      ]
    },
    {
      "cell_type": "code",
      "execution_count": null,
      "metadata": {
        "id": "32F8L_hhBEft"
      },
      "outputs": [],
      "source": [
        "census_household <- get_household_table(census_data)\n",
        "\n",
        "# Check for duplicate H_IDs\n",
        "census_household %>% group_by(H_ID) %>% summarise(n = n()) %>% filter(n > 1)"
      ]
    },
    {
      "cell_type": "markdown",
      "source": [
        "### Explanation of the household table - expand to read\n",
        "\n",
        "To see how the household table is created run this cell"
      ],
      "metadata": {
        "id": "VBTIgKKLzMzK"
      }
    },
    {
      "cell_type": "code",
      "source": [
        "get_household_table"
      ],
      "metadata": {
        "id": "psHt0AzszSkd"
      },
      "execution_count": null,
      "outputs": []
    },
    {
      "cell_type": "markdown",
      "source": [
        "To create the household table we start by assigning a unique id for each household. In the I-CeM data the H column is a sequential id which is unique within a parish. Therefore within an individual census a combination of ParID and H should be unique. However, for longitundinal analysis (notebook 3) we also incorporate the Year since the ParID for any particular parish is different in each census.\n",
        "\n",
        "The second step is to create an Age Band field for the household head. This simply rounds the age down to the nearest 5 to match the age bands seen in Nesstar. If the Age is unknown we set it to -1.\n",
        "\n",
        "The distinct function is used to select unique combinations of column values."
      ],
      "metadata": {
        "id": "Ym6Hn7ZYTnS4"
      }
    },
    {
      "cell_type": "markdown",
      "source": [
        "### Using the household table"
      ],
      "metadata": {
        "id": "-RiT8UiTTqUL"
      }
    },
    {
      "cell_type": "markdown",
      "metadata": {
        "id": "Mbzl_l39XGYO"
      },
      "source": [
        "Using this table we can count households and see the gender breakdown of household heads - just over 16% are female."
      ]
    },
    {
      "cell_type": "code",
      "execution_count": null,
      "metadata": {
        "id": "q53e8sL_XPaJ"
      },
      "outputs": [],
      "source": [
        "census_household %>% summarise(Households = n())\n",
        "households <- nrow(census_household)\n",
        "paste0('')\n",
        "census_household %>% group_by(H_Sex) %>% summarise(n = n(), pct = 100*n()/households)\n"
      ]
    },
    {
      "cell_type": "markdown",
      "metadata": {
        "id": "5EIhcSe9eOAX"
      },
      "source": [
        "### Ages of heads of households\n",
        "\n",
        "More interestingly, we can compare the age bands between genders. The 'U' value has been filtered out for clarity of visualisation. The chart shows a clear difference in age distribution between the sexes, with Female heads of households being on average much older than their male counterparts. This is expected as female heads of household were generally widows."
      ]
    },
    {
      "cell_type": "code",
      "execution_count": null,
      "metadata": {
        "id": "0qDib_BIeM7Q"
      },
      "outputs": [],
      "source": [
        "census_household %>%\n",
        "    filter(H_Sex != 'U') %>% \n",
        "    group_by(H_Sex, H_Age_Band) %>% \n",
        "    summarise(n = n()) %>% \n",
        "    mutate(pct = n/sum(n)) %>%\n",
        "        ggplot + geom_bar(aes(x = H_Age_Band, y = pct, fill = H_Sex), stat='identity', position = 'dodge', width = 5) +\n",
        "            scale_fill_manual(values = c(\"#112E51\", \"#78909C\")) + scale_x_continuous(breaks = seq(0, 100, by = 5))"
      ]
    },
    {
      "cell_type": "markdown",
      "metadata": {
        "id": "HO3rjE2IfNwA"
      },
      "source": [
        "### Occupations of heads of households\n",
        "\n",
        "To confirm this we will need to bring in a lookup table for occupations. The I-CeM documentation includes tables of encoded values and their descriptions, but I-CeM also provides spreadsheet versions of these tables. The occode_lookup.tsv file hosted in the workshop Github repository is one such example. (Note: the original file is at Excel file, it was converted to .tsv - tab separated values - for ease of loading). At the beginning of the notebook it was loaded into a table called occode_lookup. We will use this lookup to visualise occupations for heads of households, split by gender.\n",
        "\n",
        "The code for this visualisation is more involved than we've seen so far. "
      ]
    },
    {
      "cell_type": "markdown",
      "metadata": {
        "id": "Jm6D3xxePX-m"
      },
      "source": [
        "The query is split into four parts for clarity but could be merged into one. Here is a summary of the stages, but for a fuller explanation and to see the code expand the hidden section.\n",
        "\n",
        "The stages are:\n",
        "\n",
        "\n",
        "1.   Find the top 5 occupations by gender ('U' filtered out)\n",
        "2.   Find all households where the head matches that list on gender and occupation code. Get the Level 3 descriptions from the lookup table.\n",
        "3.   Summarise the records by sex, age band and description. For each sex/description combination calculate the proportion of the total count (for the combination) for each age band.\n",
        "4.   Visualise in a bar chart for each gender. Each bar shows the age band proportion using a blue to red colour scale.\n",
        "\n",
        "Discussion will follow the bar chart.\n",
        "\n"
      ]
    },
    {
      "cell_type": "markdown",
      "source": [
        "### Code to build occupation by age and gender bar chart - expand to read or click arrow to run"
      ],
      "metadata": {
        "id": "eCmUQqsRU0U-"
      }
    },
    {
      "cell_type": "markdown",
      "metadata": {
        "id": "X1-oeKamnOTE"
      },
      "source": [
        "Stage 1: Get most common occupations by gender. Unknown occupations and genders, and under 18s are filtered out. The records are grouped by gender and occupation of the head of household and counted. The top 5 occupations by gender are found, using the slice_max function. Finally, a percentage within the group is calculated for each occupation."
      ]
    },
    {
      "cell_type": "code",
      "execution_count": null,
      "metadata": {
        "id": "CQvSZ138nTvg"
      },
      "outputs": [],
      "source": [
        "top_n_occodes <- census_household %>% \n",
        "    filter(H_Occ != -1 & H_Sex != 'U' & H_Age >= 18) %>% \n",
        "    group_by(H_Sex, H_Occ) %>% \n",
        "    summarise(count=n()) %>% \n",
        "    slice_max(order_by = count, n = 5) %>%\n",
        "    mutate(pct = count/sum(count))"
      ]
    },
    {
      "cell_type": "markdown",
      "metadata": {
        "id": "8SeVktVtnWWr"
      },
      "source": [
        "Stage 2: Records with most common occupations. Using these top 5 occupations (by gender) we find heads of household have one of these occupation, and match on gender.\n",
        "\n",
        "The occode_lookup table is used to convert codes to occupation names. The str_wrap function is used for display purposes."
      ]
    },
    {
      "cell_type": "code",
      "execution_count": null,
      "metadata": {
        "id": "L1LP7Xgjncas"
      },
      "outputs": [],
      "source": [
        "top_n_descriptions <- top_n_occodes %>%\n",
        "  inner_join(census_household, by = c('H_Sex','H_Occ')) %>%\n",
        "  select(H_Occ, H_Sex, H_Age_Band) %>%\n",
        "  inner_join(occode_lookup, by = c('H_Occ' = 'Occode')) %>%\n",
        "  mutate(Occupation = str_wrap(paste0(Level3,\" (\", H_Occ, \")\"), 20))"
      ]
    },
    {
      "cell_type": "markdown",
      "metadata": {
        "id": "Q6Hn5gnhngdA"
      },
      "source": [
        "Stage 3: Summarise the records by sex, age band and description. Records are grouped by these three fields and counted in each group. A percentage of the total is calculated for each occupation."
      ]
    },
    {
      "cell_type": "code",
      "execution_count": null,
      "metadata": {
        "id": "_FQ8m8rKoATn"
      },
      "outputs": [],
      "source": [
        "h_sex_age_occ_summary <- top_n_descriptions %>%\n",
        "  group_by(H_Sex, H_Age_Band, Occupation) %>% \n",
        "  summarise(age_count = n()) %>%\n",
        "  mutate(age_pct = age_count/sum(age_count)) "
      ]
    },
    {
      "cell_type": "markdown",
      "metadata": {
        "id": "6gdqQrRgoC_U"
      },
      "source": [
        "Stage 4: Visualise bar chart. A bar chart is created using the ggplot function to show percentage for each description. The bars are stacked with a separate colour for each age band. The facet_wrap function splits the data across two charts, one for each gender. The remaining parts of the code control the display (e.g. colours)."
      ]
    },
    {
      "cell_type": "code",
      "execution_count": null,
      "metadata": {
        "id": "-juTZAtFviVn"
      },
      "outputs": [],
      "source": [
        "h_sex_age_occ_summary  %>%\n",
        " ggplot(aes(x=Occupation, y=age_pct, fill = H_Age_Band))  +\n",
        " coord_flip() + facet_wrap(facets = vars(H_Sex)) +\n",
        " geom_bar(stat='identity')  +\n",
        "  scale_fill_gradient2(low=\"blue\", mid = \"white\", high=\"red\", midpoint = 50, na.value = \"grey\", limits = c(15, 90)) + \n",
        "   theme(axis.title.x=element_blank(),\n",
        "        axis.text.x=element_blank(),\n",
        "        axis.ticks.x=element_blank())"
      ]
    },
    {
      "cell_type": "markdown",
      "source": [
        "### Barchart discussion"
      ],
      "metadata": {
        "id": "68FZfH1fVBK6"
      }
    },
    {
      "cell_type": "markdown",
      "metadata": {
        "id": "W_6i_9Oxoaj1"
      },
      "source": [
        "There are a number of interesting patterns evident in the chart. Here we discuss a few of them:\n",
        "\n",
        "\n",
        "On the female side:\n",
        "\n",
        "*   The majority of women are classed as not working (widows, no occupation) or supported by private means. Their ages are skewed towards older age groups.\n",
        "*   The employed women are either farmers/graziers or supporting their husbands' occupations. The latter group are generally in the younger age groups.\n",
        "\n",
        "On the male side:\n",
        "\n",
        "*   A high percentage of Shoe and boot makers/repairers have no age. That would be worthy of further investigation in the data.\n",
        "*   Farmers/Graziers are skewed towards older ages, while farm labourers are slightly skewed towards the younger age bands.\n",
        "\n"
      ]
    },
    {
      "cell_type": "markdown",
      "source": [
        "This is an opportunity to explore the mappings of textual occupation values to their encoded values. If we choose Occode 778 which stands for Private Means we see the range of values that are considered to have that meaning. Annuitant (including an alternative spelling) is by far the highest, but we also see values such as fund holder, and proprietor of houses. This demonstrates the value of the encodings but also the challenges in defining the mappings.\n",
        "\n",
        "Note: the Occodes in the chart above are in brackets after the descriptions. Feel free to try other values in the query."
      ],
      "metadata": {
        "id": "b9QTe2EM5O3z"
      }
    },
    {
      "cell_type": "code",
      "source": [
        "census_data %>% \n",
        "    filter(Occode == 778 & Sex == 'F') %>%\n",
        "     group_by(Occ) %>% \n",
        "     summarise(n = n()) %>% \n",
        "     arrange(-n) %>% \n",
        "     head(10)"
      ],
      "metadata": {
        "id": "KNRveGfM4dFU"
      },
      "execution_count": null,
      "outputs": []
    },
    {
      "cell_type": "markdown",
      "metadata": {
        "id": "HfeImQe6m-ib"
      },
      "source": [
        "## Conjugal Family Units (CFU)"
      ]
    },
    {
      "cell_type": "markdown",
      "metadata": {
        "id": "U4DSx3MB7kPL"
      },
      "source": [
        "The Conjugal Family Unit (CFU) is used to group together members of the same biological family. The I-CeM User Guide lists three ways in which a CFU is formed:\n",
        "\n",
        "*   by married couples without offspring\n",
        "*   by a married couple with never-married offspring and/or never-married adopted/foster children\n",
        "*   by a lone parent with at least one never-married child\n",
        "\n",
        "A household may contain multiple CFUs and members of the household who are not part of a CFU are given a CFU of 0 (zero). Members of the first CFU (generally including the head, if they meet the criteria) get a CFU value of 1, the second CFU is value 2, and so on (although beyond 2 is probably rare)."
      ]
    },
    {
      "cell_type": "markdown",
      "metadata": {
        "id": "aP1T9DWFTxqf"
      },
      "source": [
        "### Unit table\n",
        "\n",
        "We will build separate tables for CFUs and household members who are not in a CFU. These tables will then be merged into one table which will be called household_unit"
      ]
    },
    {
      "cell_type": "code",
      "execution_count": null,
      "metadata": {
        "id": "cvaIOwBShqXZ"
      },
      "outputs": [],
      "source": [
        "household_unit <- get_unit_table(census_data)"
      ]
    },
    {
      "cell_type": "markdown",
      "source": [
        "### Explanation of unit table code - expand to read"
      ],
      "metadata": {
        "id": "abGiaOFPcDs4"
      }
    },
    {
      "cell_type": "markdown",
      "source": [
        "To view the code for creating the household_unit table print the get_unit_table function"
      ],
      "metadata": {
        "id": "Dt4609lscHOi"
      }
    },
    {
      "cell_type": "code",
      "source": [
        "get_unit_table"
      ],
      "metadata": {
        "id": "fDHAwSVucNhT"
      },
      "execution_count": null,
      "outputs": []
    },
    {
      "cell_type": "markdown",
      "source": [
        "There are two parts to building this table. The first is to identify records of CFUs. These are identified by the CFU field having a value other than 0. We create a unique identifier called UNIT_ID which is a concatenation of the household identifier and the CFU.\n",
        "\n",
        "Indicator variables IS_CFU and IS_H_CFU are created to show whether a record represents a CFU and if it is the head of household's CFU, respectively.\n",
        "\n",
        "The CFUsize is renamed to UnitSize as not all units in this table are CFUs.\n",
        "\n",
        "The second part is to create a table for the non-CFU records. In this case the UNIT_ID also incorporates the HHD field (since the CFU vaue is always 0) to maintain uniqueness. There is no CFUsize so the UnitSize is calculated by grouping by the unique fields and counting records.\n",
        "\n",
        "Finally the two tables are merged together to form a single census_unit table."
      ],
      "metadata": {
        "id": "jihmpSEDcQHG"
      }
    },
    {
      "cell_type": "markdown",
      "source": [
        "# Individuals"
      ],
      "metadata": {
        "id": "dLkl1Gvi9ZZ5"
      }
    },
    {
      "cell_type": "markdown",
      "metadata": {
        "id": "wtzzhMcJbVaH"
      },
      "source": [
        "### Person table\n",
        "\n",
        "Before we start analysing the unit table we will create a table for people. It will make checking results more pleasant if we trim some columns first. Since the source data is already at the level of the individual the RecId would usually suffice as a unique person id. However, the next stage will be easier with a constructed Id which will be called PersonID to distinguish it from the PID.\n",
        "\n",
        "We will also create household and unit Ids in order to provide a link back to the tables that have just been created. Usually when normalising data we wouldn't put the H_ID in this table and retrieve it from the appropriate Unit record. However, for the sake of pragmatism and fewer joins we will include it."
      ]
    },
    {
      "cell_type": "code",
      "execution_count": null,
      "metadata": {
        "id": "sBzM-_uQeBRq"
      },
      "outputs": [],
      "source": [
        "census_person <- get_person_table(census_data)"
      ]
    },
    {
      "cell_type": "markdown",
      "source": [
        "### Explanation of person table code - expand to read"
      ],
      "metadata": {
        "id": "vAvuSSlMVmLs"
      }
    },
    {
      "cell_type": "markdown",
      "source": [
        "If you wish to see the code of the get_person_table function run the next cell"
      ],
      "metadata": {
        "id": "Phqu6eB6zLSI"
      }
    },
    {
      "cell_type": "code",
      "source": [
        "get_person_table"
      ],
      "metadata": {
        "id": "uzonT70AzG02"
      },
      "execution_count": null,
      "outputs": []
    },
    {
      "cell_type": "markdown",
      "source": [
        "Since the census data is already at an individual level it would seem reasonable to use the RecID as a unique identifier for a person. However, this doesn't work once we get to longitudinal analysis. Instead we will use the household identifier concatenated with the PID which is unique within a household. This means we have a set of consistent identifiers constructed from the household id.\n",
        "\n",
        "Technically the household id is not required for this table since it can be found by linking across to the Unit table (via the UNIT_ID which is included). However, for the sake of pragmatism and reducing the number of table joins, it is included.\n",
        "\n",
        "Next, the Age_Band column is added in the same way as the one in the household table.\n",
        "\n",
        "The final derived columns are from the Rela column which details the relationship of a person to the head of the household. This is a little convoluted since the Rela value can sometimes include two pieces of information - for example, the code 32 represents a Son, but the Son of a lodger would be 3032 with the 3000 signifying they are related to the lodger. The lodger themself would be 3000.\n",
        "Things are further complicated by the fact that the second part is in the range 0-199, but values like 6200 are self contained - 200 on its own doesn't have a meaning. \n",
        "The I-CeM guide has a full list of codes and their meanings and it is worth reading that before trying to unpick the code.\n",
        "\n",
        "The separated out values then link to two lookup tables which allow us to, for example, query for lodgers and their families.\n"
      ],
      "metadata": {
        "id": "beITcg2yVr9L"
      }
    },
    {
      "cell_type": "markdown",
      "metadata": {
        "id": "aJSh_G7igNrG"
      },
      "source": [
        "### Relation table\n",
        "\n",
        "Finally we create a table of immediate family relations (spouse, father, mother, child). This will be achieved in two stages.\n",
        "\n",
        "The first stage will use a function of dplyr which enables Tidy Data principles to be followed. Rather than separate columns for Spouse, Father, Mother, there should be a single column for the relationship, and one for the Id of the relation.\n",
        "\n",
        "dplyr provides the pivot_longer function to achieve this transformation. The function is passed a list of column names which will become the values in a single column we will call 'relation'. The PIDs currently held in the columns will be moved to a column called RelID.\n",
        "\n",
        "For example, if the value in the Spouse column is 2, a row will be created with the value 'Spouse' in the relation column, and 2 in the RelID column.\n",
        "\n",
        "In order to facilitate joining back to the person table we will then concatenate the H_ID to the RelID value, so that their construction matches that of the PersonID.\n",
        "\n",
        "The second stage is to reverse the Mother/Father relations to create Child relations. A summary of the resulting table is output at the end."
      ]
    },
    {
      "cell_type": "code",
      "execution_count": null,
      "metadata": {
        "id": "xVeNEVZcfUrU"
      },
      "outputs": [],
      "source": [
        "person_relation <- get_relation_table(census_data)"
      ]
    },
    {
      "cell_type": "markdown",
      "source": [
        "### Explanation of the person relation table - expand to read"
      ],
      "metadata": {
        "id": "pVOfn5EOsnv9"
      }
    },
    {
      "cell_type": "markdown",
      "source": [
        "To view the code print the get_relation_table function"
      ],
      "metadata": {
        "id": "A_OuTTvKss9g"
      }
    },
    {
      "cell_type": "code",
      "source": [
        "get_relation_table"
      ],
      "metadata": {
        "id": "mjwc3KmVssGD"
      },
      "execution_count": null,
      "outputs": []
    },
    {
      "cell_type": "markdown",
      "source": [
        "This is another two part table creation script. The table links to the Person table and is derived from the Father, Mother and Spouse columns of the census data.\n",
        "It uses the pivot_longer function to convert those columns to individual rows. Columns 'relation' (containing values Father, Mother or Spouse) and RelID (containing the person id of the Father/Mother/Spouse) are created by the function.\n",
        "\n",
        "The second stage is to derive Child relationships by simply reversing Father and Mother relationships and creating new rows with the person ids swapped around. The value in the relation column is set to 'Child' for these records.\n",
        "\n",
        "The person_relations table is created by merging the two tables together."
      ],
      "metadata": {
        "id": "rVP6irCFs0JH"
      }
    },
    {
      "cell_type": "markdown",
      "source": [
        "### Data integrity checks\n",
        "\n",
        "We would expect the UNIT_ID to be unique for each row in the Unit table. However, the query to check this returns 6 rows."
      ],
      "metadata": {
        "id": "gJsQl_SDY3YI"
      }
    },
    {
      "cell_type": "code",
      "execution_count": null,
      "metadata": {
        "id": "LwTUHj9Nu5Ax"
      },
      "outputs": [],
      "source": [
        "household_unit %>% group_by(UNIT_ID) %>% summarise(n = n()) %>% filter(n > 1)"
      ]
    },
    {
      "cell_type": "markdown",
      "source": [
        "We can use the new Person table to examine a household - remove the \"_1\" from the end of one of the UNIT_IDs to get the H_ID.\n",
        "\n",
        "The H_ID=1851_9475_56 example shows a household containing two families. There's the head of the family and his wife and son, and then there is a lodger with his wife and daughter. If we also look in the Unit table there is one CFU of size 6 but two different HHD values.\n",
        "\n",
        "Using the Relation table we also find that while person 5 is correctly stated as the Spouse of person 4, their daughter has person 1 (the head) as her father. Having checked the original census record this is incorrect. There is obviously something in the records which has caused a breakdown of the logic in deriving family units. These 6 records may represent a small percentage of similar situations but it highlights why it is worth building integrity checks into any process which involves data reformatting, and it also shows that we should always check derived values."
      ],
      "metadata": {
        "id": "KpeZWvq7d1Ew"
      }
    },
    {
      "cell_type": "code",
      "execution_count": null,
      "metadata": {
        "id": "DAQyz7-KU3qO"
      },
      "outputs": [],
      "source": [
        "census_person %>% filter(H_ID == '1851_9475_56') %>% print\n",
        "\n",
        "household_unit %>% filter(H_ID == '1851_9475_56')\n",
        "\n",
        "person_relation %>% filter(PersonID == '1851_9475_56_6')\n",
        "\n",
        "person_relation %>% filter(PersonID == '1851_9475_56_4')"
      ]
    },
    {
      "cell_type": "markdown",
      "source": [
        "# Using the normalised tables"
      ],
      "metadata": {
        "id": "B56Sl3rq9e6c"
      }
    },
    {
      "cell_type": "markdown",
      "source": [
        "### Querying the Unit table\n",
        "\n",
        "The CFUsize column allows us to calculate the distribution of family sizes. Note that is begins at 2, as per the definition of a CFU. The largest family has 13 members!"
      ],
      "metadata": {
        "id": "d0kUSSUojJsv"
      }
    },
    {
      "cell_type": "code",
      "execution_count": null,
      "metadata": {
        "id": "65XB6azhjP3e"
      },
      "outputs": [],
      "source": [
        "household_unit %>% filter(IS_CFU == TRUE) %>% group_by(UnitSize) %>% summarise(n = n())"
      ]
    },
    {
      "cell_type": "markdown",
      "source": [
        "Here are the members of the largest family unit"
      ],
      "metadata": {
        "id": "x-7d8uDzkVWu"
      }
    },
    {
      "cell_type": "code",
      "source": [
        "household_unit %>% filter(IS_CFU == TRUE & UnitSize == 13)\n",
        "\n",
        "census_person %>% filter(H_ID == '1851_9495_337') %>% print(n=15)"
      ],
      "metadata": {
        "id": "5q125JDAh0gE"
      },
      "execution_count": null,
      "outputs": []
    },
    {
      "cell_type": "markdown",
      "source": [
        "We can also look at the household with the most non-CFU residents. There are 36 of them in a household of 44!"
      ],
      "metadata": {
        "id": "Ri5hSlhmpKrB"
      }
    },
    {
      "cell_type": "code",
      "source": [
        "household_unit %>% filter(IS_CFU == FALSE & UnitSize == 36)\n",
        "\n",
        "census_person %>% filter(H_ID == '1851_9467_110') %>% print(n=50)"
      ],
      "metadata": {
        "id": "7ZeXxPWjo-K6"
      },
      "execution_count": null,
      "outputs": []
    },
    {
      "cell_type": "markdown",
      "source": [
        "We can also look at the Relat column (relationship to head) for non-CFUs to see who else is living in households outside of the main family. Here are the top 10 values."
      ],
      "metadata": {
        "id": "FS6Y13RUklQJ"
      }
    },
    {
      "cell_type": "code",
      "execution_count": null,
      "metadata": {
        "id": "AMH-I6s7DdgQ"
      },
      "outputs": [],
      "source": [
        "household_unit %>%\n",
        " filter(IS_CFU == FALSE) %>% \n",
        " inner_join(census_person, by = 'UNIT_ID') %>%\n",
        " group_by(Relat) %>%\n",
        " summarise(n = n()) %>%\n",
        " arrange(-n) %>% head(10)"
      ]
    },
    {
      "cell_type": "markdown",
      "metadata": {
        "id": "V_9jkwboYIo7"
      },
      "source": [
        "### Querying the Relation table\n",
        "\n",
        "Finally we will use the relations table to compare Father and Son occupations.\n",
        "This is achieved in four stages, although they're performed in one query here.\n",
        "\n",
        "\n",
        "\n",
        "1.   Identify all of the Fathers in the Relation table\n",
        "2.   Join the Fathers to the Person table to get their details (Occupation and Age)\n",
        "3.   Link the result to the Person table again to get the details of the Child, the filter to restrict the result to sons\n",
        "4.   Join twice to the occupation lookup table get the Level 3 descriptions for father and son respectively\n",
        "\n",
        "The first 3 rows of the father_son table are printed"
      ]
    },
    {
      "cell_type": "code",
      "execution_count": null,
      "metadata": {
        "id": "uYZjQDTgY8Gj"
      },
      "outputs": [],
      "source": [
        "father_son <- person_relation %>%\n",
        "    filter(relation == 'Father') %>%\n",
        "    inner_join(census_person, by = c(\"RelID\" = \"PersonID\")) %>%\n",
        "    select(FatherID = RelID, FatherOcc = Occ, FatherOccode = Occode, FatherAge = Age, SonID = PersonID) %>%\n",
        "    inner_join(census_person, by = c(\"SonID\" = \"PersonID\")) %>%\n",
        "    filter(Sex == 'M') %>%\n",
        "    select(FatherID, FatherOcc, FatherOccode, FatherAge, SonID, SonOccCode = Occode, SonAge = Age) %>%\n",
        "    inner_join(occode_lookup, by = c('FatherOccode' = 'Occode')) %>% mutate(FatherOccDesc = Level3) %>%\n",
        "    select(-Level1, -Level2, -Level3) %>%\n",
        "    inner_join(occode_lookup, by = c('SonOccCode' = 'Occode')) %>% mutate(SonOccDesc = Level3) %>%\n",
        "    select(-Level1, -Level2, -Level3)\n",
        "    \n",
        "father_son %>% head(3)"
      ]
    },
    {
      "cell_type": "markdown",
      "source": [
        "Then we create a summary grouped by father and son occupation descriptions and visualise it as a point plot - the father's occupation on the X axis, the son's on the Y axis. The points have been coloured to indicate when father and son share an occupation. Sons younger than 10 and combinations with counts under 6 are filtered out.\n",
        "\n",
        "Tip: right click on the visualisation and select \"View image in new tab\" to see it full size."
      ],
      "metadata": {
        "id": "XmqoYY-SvRwW"
      }
    },
    {
      "cell_type": "code",
      "execution_count": null,
      "metadata": {
        "id": "y63vE_3_pmDH"
      },
      "outputs": [],
      "source": [
        "options(repr.plot.width=15, repr.plot.height=10)\n",
        "\n",
        "father_son %>%\n",
        "    filter(SonAge > 9) %>%\n",
        "   group_by(FatherOccDesc, SonOccDesc) %>% summarise(count = n()) %>%\n",
        "   filter(count > 5) %>%\n",
        "   ggplot + geom_point(aes(x = str_wrap(FatherOccDesc, 30), y = str_wrap(SonOccDesc,60), size = count,\n",
        "                           colour = FatherOccDesc == SonOccDesc)) +\n",
        "   theme(axis.text.x=element_text(size=7, angle = 90, vjust = 1, hjust=1),\n",
        "         axis.text.y=element_text(size=6, angle = 0, vjust = 1, hjust=1),\n",
        "        axis.title=element_text(size=14,face=\"bold\"),\n",
        "        panel.background = element_rect(fill = 'white', colour = 'black')) +\n",
        "    scale_colour_manual(values = c(\"#003b49\", \"#dc582a\", \"#d6d2c4\")) +\n",
        "    labs(\n",
        "        x = \"Father's Occupation\",\n",
        "        y = \"Son's Occupation\",\n",
        "        colour = \"Same Occupation\",\n",
        "        size = \"Count\"\n",
        "   )\n",
        "   "
      ]
    },
    {
      "cell_type": "markdown",
      "source": [
        "# Summary of notebook 2\n",
        "\n",
        "This notebook focused on data normalisation. Beginning with an introduction to the principles of, and motivations behind, normalisation, it then created 5 new tables from the original census data:\n",
        "\n",
        "\n",
        "\n",
        "*   Parish Returns: details of individual parishes including counts from census reports\n",
        "*   Households: a record per household including details of the head of the household\n",
        "*   Units: conjugal family units within a household, and other residents\n",
        "*   People: individuals in the census\n",
        "*   Relations: parent/child and spousal relationships between individuals\n",
        "\n",
        "We also used the tables to produce summary tables and visualisations. Some of these queries would have been very complex using the original census data table.\n"
      ],
      "metadata": {
        "id": "WOVSS4T_72vq"
      }
    }
  ],
  "metadata": {
    "colab": {
      "collapsed_sections": [
        "35ISmWR6RwVC",
        "H_wmK2aORSyP",
        "6tWdnp5UqMX7",
        "VBTIgKKLzMzK",
        "vAvuSSlMVmLs",
        "pVOfn5EOsnv9",
        "abGiaOFPcDs4"
      ],
      "name": "02 - Structuring I-CeM data for analysis.ipynb",
      "provenance": [],
      "authorship_tag": "ABX9TyM4Pkw8BVTS4/+XzlX1qIa5",
      "include_colab_link": true
    },
    "kernelspec": {
      "display_name": "R",
      "name": "ir"
    },
    "language_info": {
      "name": "R"
    }
  },
  "nbformat": 4,
  "nbformat_minor": 0
}
